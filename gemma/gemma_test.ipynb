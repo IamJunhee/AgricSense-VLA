{
 "cells": [
  {
   "cell_type": "code",
   "execution_count": 1,
   "id": "e518ecb7-86aa-4b27-890d-15854eba3fc4",
   "metadata": {},
   "outputs": [],
   "source": [
    "import os\n",
    "hf_token = os.environ['HF_TOKEN']"
   ]
  },
  {
   "cell_type": "code",
   "execution_count": 2,
   "id": "ee2e0e3c-45e8-4dd3-8dff-f01e485239b7",
   "metadata": {},
   "outputs": [
    {
     "name": "stderr",
     "output_type": "stream",
     "text": [
      "Note: Environment variable`HF_TOKEN` is set and is the current active token independently from the token you've just configured.\n"
     ]
    }
   ],
   "source": [
    "from huggingface_hub import login\n",
    "\n",
    "login(hf_token)"
   ]
  },
  {
   "cell_type": "code",
   "execution_count": 3,
   "id": "eb040053-1ba1-4c40-b47a-9a02af97094c",
   "metadata": {},
   "outputs": [],
   "source": [
    "import torch\n",
    "import transformers\n",
    "\n",
    "model_id = \"google/gemma-3-4b-it\"\n",
    "model_path = \"./gemma-product-description\""
   ]
  },
  {
   "cell_type": "code",
   "execution_count": 4,
   "id": "21029137-b6d0-46cb-a198-d88fdcf8d3ae",
   "metadata": {},
   "outputs": [],
   "source": [
    "from datasets import load_dataset\n",
    "\n",
    "DATASET_BASE = \"/home/junhee0110/dataset/images_split_{}\" #\"/home/iamjunhee/OhMyData/SpatialQA/dataset/images_split_{}\"\n",
    "JSON_BASE = \"NewQA_split_{}.json\"\n",
    "SPLIT_NUMBER = 1\n",
    "\n",
    "\n",
    "get_dataset_dir = lambda index: DATASET_BASE.format(index)\n",
    "get_json_dir = lambda index: os.path.join(DATASET_BASE.format(index), JSON_BASE.format(index))\n",
    "\n",
    "dataset = load_dataset(\"json\", data_files=get_json_dir(SPLIT_NUMBER), split=\"train\")\n",
    "\n",
    "get_image_path = lambda index, is_depth: os.path.join(get_dataset_dir(SPLIT_NUMBER), dataset[index][\"image\"][is_depth])"
   ]
  },
  {
   "cell_type": "code",
   "execution_count": 5,
   "id": "ecd9bc6e-2917-4a93-a517-58013bc43c3e",
   "metadata": {},
   "outputs": [
    {
     "data": {
      "text/plain": [
       "['visual_genome/3638.jpg', 'visual_genome_d/3638.png']"
      ]
     },
     "execution_count": 5,
     "metadata": {},
     "output_type": "execute_result"
    }
   ],
   "source": [
    "dataset[0][\"image\"]"
   ]
  },
  {
   "cell_type": "code",
   "execution_count": 8,
   "id": "48a9f797-899c-4f88-8422-deac788b394b",
   "metadata": {},
   "outputs": [
    {
     "data": {
      "application/vnd.jupyter.widget-view+json": {
       "model_id": "07c9c1f8593748e38d263e8a0a8b9ee9",
       "version_major": 2,
       "version_minor": 0
      },
      "text/plain": [
       "Loading checkpoint shards:   0%|          | 0/2 [00:00<?, ?it/s]"
      ]
     },
     "metadata": {},
     "output_type": "display_data"
    },
    {
     "name": "stderr",
     "output_type": "stream",
     "text": [
      "/home/junhee0110/.agricsense/lib/python3.10/site-packages/peft/tuners/tuners_utils.py:550: UserWarning: Model with `tie_word_embeddings=True` and the tied_target_modules=['language_model.lm_head'] are part of the adapter. This can lead to complications, for example when merging the adapter or converting your model to formats other than safetensors. See for example https://github.com/huggingface/peft/issues/2018.\n",
      "  warnings.warn(\n"
     ]
    }
   ],
   "source": [
    "from peft import PeftModel\n",
    "from transformers import AutoProcessor, AutoModelForImageTextToText\n",
    "\n",
    "model = AutoModelForImageTextToText.from_pretrained(\n",
    "    model_id,\n",
    "    device_map=\"auto\",\n",
    "    torch_dtype=torch.bfloat16,\n",
    "    attn_implementation=\"flash_attention_2\"\n",
    ")\n",
    "\n",
    "perf_model = PeftModel.from_pretrained(model, model_path)\n",
    "processor = AutoProcessor.from_pretrained(model_path)"
   ]
  },
  {
   "cell_type": "code",
   "execution_count": 74,
   "id": "171744c5-f865-401b-8bd7-1c562e0c2c79",
   "metadata": {},
   "outputs": [
    {
     "name": "stdout",
     "output_type": "stream",
     "text": [
      "The chef on the right has a depth value of 1131.\n"
     ]
    }
   ],
   "source": [
    "from.pipeline import generate_prompt, collate_data\n",
    "\n",
    "prompt = generate_prompt(\"Describe this image.\", get_image_path(0,0), get_image_path(0,1))\n",
    "\n",
    "batch = collate_data(prompt, for_generation=True)\n",
    "\n",
    "batch.to(model.device, dtype=torch.bfloat16)\n",
    "\n",
    "# input_len = inputs[\"input_ids\"].shape[-1]\n",
    "\n",
    "with torch.inference_mode():\n",
    "    generation = model.generate(**batch, max_new_tokens=200, do_sample=False)\n",
    "\n",
    "decoded = processor.decode(generation, skip_special_tokens=True)\n",
    "print(decoded)"
   ]
  },
  {
   "cell_type": "code",
   "execution_count": null,
   "id": "19be8529-918e-4e46-9854-133beb27e1d4",
   "metadata": {},
   "outputs": [],
   "source": []
  }
 ],
 "metadata": {
  "kernelspec": {
   "display_name": "Python 3 (ipykernel)",
   "language": "python",
   "name": "python3"
  },
  "language_info": {
   "codemirror_mode": {
    "name": "ipython",
    "version": 3
   },
   "file_extension": ".py",
   "mimetype": "text/x-python",
   "name": "python",
   "nbconvert_exporter": "python",
   "pygments_lexer": "ipython3",
   "version": "3.12.3"
  }
 },
 "nbformat": 4,
 "nbformat_minor": 5
}
