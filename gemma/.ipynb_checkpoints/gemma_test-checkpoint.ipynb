{
 "cells": [
  {
   "cell_type": "code",
   "execution_count": 1,
   "id": "e518ecb7-86aa-4b27-890d-15854eba3fc4",
   "metadata": {},
   "outputs": [
    {
     "name": "stderr",
     "output_type": "stream",
     "text": [
      "Note: Environment variable`HF_TOKEN` is set and is the current active token independently from the token you've just configured.\n"
     ]
    }
   ],
   "source": [
    "import os\n",
    "from huggingface_hub import login\n",
    "\n",
    "hf_token = os.environ['HF_TOKEN']\n",
    "login(hf_token)"
   ]
  },
  {
   "cell_type": "code",
   "execution_count": 2,
   "id": "eb040053-1ba1-4c40-b47a-9a02af97094c",
   "metadata": {},
   "outputs": [],
   "source": [
    "import torch\n",
    "import transformers\n",
    "\n",
    "model_id = \"google/gemma-3-4b-it\"\n",
    "model_path = \"./agricsense.model\""
   ]
  },
  {
   "cell_type": "code",
   "execution_count": 3,
   "id": "21029137-b6d0-46cb-a198-d88fdcf8d3ae",
   "metadata": {},
   "outputs": [],
   "source": [
    "from datasets import load_dataset\n",
    "\n",
    "DATASET_BASE = \"/home/junhee0110/dataset/images_split_{}\"\n",
    "JSON_BASE = \"NewQA_split_{}.json\"\n",
    "SPLIT_NUMBER = 1\n",
    "\n",
    "\n",
    "get_dataset_dir = lambda index: DATASET_BASE.format(index)\n",
    "get_json_dir = lambda index: os.path.join(DATASET_BASE.format(index), JSON_BASE.format(index))\n",
    "\n",
    "dataset = load_dataset(\"json\", data_files=get_json_dir(SPLIT_NUMBER), split=\"train\")\n",
    "\n",
    "get_image_path = lambda index, is_depth: os.path.join(get_dataset_dir(SPLIT_NUMBER), dataset[index][\"image\"][is_depth])"
   ]
  },
  {
   "cell_type": "code",
   "execution_count": null,
   "id": "7cbce654-4cf6-4690-8bb2-3a4e5cda8f3a",
   "metadata": {},
   "outputs": [],
   "source": [
    "from PIL import Image\n",
    "\n",
    "Image.open(get_image_path(7779, 0))"
   ]
  },
  {
   "cell_type": "code",
   "execution_count": 5,
   "id": "48a9f797-899c-4f88-8422-deac788b394b",
   "metadata": {},
   "outputs": [
    {
     "data": {
      "application/vnd.jupyter.widget-view+json": {
       "model_id": "94291e7fefe24fd384b8e063db1574a3",
       "version_major": 2,
       "version_minor": 0
      },
      "text/plain": [
       "Loading checkpoint shards:   0%|          | 0/2 [00:00<?, ?it/s]"
      ]
     },
     "metadata": {},
     "output_type": "display_data"
    },
    {
     "name": "stderr",
     "output_type": "stream",
     "text": [
      "/home/junhee0110/.agricsense/lib/python3.10/site-packages/peft/tuners/tuners_utils.py:550: UserWarning: Model with `tie_word_embeddings=True` and the tied_target_modules=['language_model.lm_head'] are part of the adapter. This can lead to complications, for example when merging the adapter or converting your model to formats other than safetensors. See for example https://github.com/huggingface/peft/issues/2018.\n",
      "  warnings.warn(\n"
     ]
    }
   ],
   "source": [
    "from transformers import AutoProcessor, AutoModelForImageTextToText\n",
    "\n",
    "model = AutoModelForImageTextToText.from_pretrained(\n",
    "    model_path,\n",
    "    device_map=\"auto\",\n",
    "    torch_dtype=torch.bfloat16,\n",
    "    attn_implementation=\"flash_attention_2\"\n",
    ")\n",
    "\n",
    "processor = AutoProcessor.from_pretrained(model_path)"
   ]
  },
  {
   "cell_type": "code",
   "execution_count": 6,
   "id": "171744c5-f865-401b-8bd7-1c562e0c2c79",
   "metadata": {},
   "outputs": [
    {
     "name": "stdout",
     "output_type": "stream",
     "text": [
      "[{'messages': [{'role': 'user', 'content': [{'type': 'image', 'path': '/home/junhee0110/dataset/images_split_1/visual_genome/3638.jpg'}, {'type': 'image', 'path': '/home/junhee0110/dataset/images_split_1/visual_genome_d/3638.png'}, {'type': 'text', 'text': 'Which tree is the closest one?'}]}]}, {'messages': [{'role': 'user', 'content': [{'type': 'image', 'path': '/home/junhee0110/dataset/images_split_1/visual_genome/3638.jpg'}, {'type': 'image', 'path': '/home/junhee0110/dataset/images_split_1/visual_genome_d/3638.png'}, {'type': 'text', 'text': 'Describe the image'}]}]}, {'messages': [{'role': 'user', 'content': [{'type': 'image', 'path': '/home/junhee0110/dataset/images_split_1/visual_genome/3638.jpg'}, {'type': 'image', 'path': '/home/junhee0110/dataset/images_split_1/visual_genome_d/3638.png'}, {'type': 'text', 'text': 'How many trees do you see?'}]}]}]\n"
     ]
    }
   ],
   "source": [
    "from pipeline import generate_prompt, collate_data, generate\n",
    "\n",
    "prompt = [\n",
    "    generate_prompt(\"Which tree is the closest one?\", get_image_path(0,0), get_image_path(0,1)),\n",
    "    generate_prompt(\"Describe the image\", get_image_path(0,0), get_image_path(0,1)),\n",
    "    generate_prompt(\"How many trees do you see?\", get_image_path(0,0), get_image_path(0,1)),\n",
    "]\n",
    "\n",
    "generated = generate(prompt, model, processor, max_new_tokens=400)"
   ]
  },
  {
   "cell_type": "code",
   "execution_count": 8,
   "id": "94f8bef3-4dcb-4473-93b7-54e88eab4bc2",
   "metadata": {},
   "outputs": [
    {
     "name": "stdout",
     "output_type": "stream",
     "text": [
      "['The tree closest to the camera is the one on the right side of the image.', 'The image shows a body of water with trees on both sides. The trees on the left side are closer to the camera, while those on the right are further away. There is a fence running parallel to the water on both sides, and a building is visible in the background on the right side.', 'There are three trees in the image.']\n"
     ]
    }
   ],
   "source": [
    "print(generated)"
   ]
  }
 ],
 "metadata": {
  "kernelspec": {
   "display_name": "Python 3 (ipykernel)",
   "language": "python",
   "name": "python3"
  },
  "language_info": {
   "codemirror_mode": {
    "name": "ipython",
    "version": 3
   },
   "file_extension": ".py",
   "mimetype": "text/x-python",
   "name": "python",
   "nbconvert_exporter": "python",
   "pygments_lexer": "ipython3",
   "version": "3.12.3"
  }
 },
 "nbformat": 4,
 "nbformat_minor": 5
}
